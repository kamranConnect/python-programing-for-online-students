{
 "cells": [
  {
   "cell_type": "code",
   "execution_count": 32,
   "metadata": {
    "scrolled": true
   },
   "outputs": [
    {
     "name": "stdout",
     "output_type": "stream",
     "text": [
      "Enter First Value4\n",
      "Enter opperator%\n",
      "Enter Second Value4\n",
      "invalid opperator\n"
     ]
    }
   ],
   "source": [
    "#Code for Calculator\n",
    "x = float(input('Enter First Value'))\n",
    "opperator = input('Enter opperator')\n",
    "y = float(input('Enter Second Value'))\n",
    "\n",
    "if opperator == '+':\n",
    "    print(x + y)\n",
    "elif opperator == '-':\n",
    "    print(x - y)\n",
    "elif opperator == '*':\n",
    "    print(x * y)\n",
    "elif opperator == '/':\n",
    "    print(x / y)\n",
    "elif opperator == '^':\n",
    "    print(x ** y)\n",
    "else :\n",
    "    print('invalid opperator')"
   ]
  },
  {
   "cell_type": "code",
   "execution_count": 33,
   "metadata": {},
   "outputs": [
    {
     "name": "stdout",
     "output_type": "stream",
     "text": [
      "Their is a numaric value\n"
     ]
    }
   ],
   "source": [
    "r = ['kamran','panda',74,'89']\n",
    "for items_in_a in r :\n",
    "    if (type(items_in_a)==int):\n",
    "        print('Their is a numaric value')"
   ]
  },
  {
   "cell_type": "code",
   "execution_count": 34,
   "metadata": {},
   "outputs": [
    {
     "name": "stdout",
     "output_type": "stream",
     "text": [
      "abc@xyz.com\n"
     ]
    }
   ],
   "source": [
    "customer1 = {'user_name' : 'kk',\n",
    "             'city' : 'karachi',\n",
    "             'email' : 'abc@xyz.com'}\n",
    "print(customer1['email'])"
   ]
  },
  {
   "cell_type": "code",
   "execution_count": 35,
   "metadata": {},
   "outputs": [
    {
     "name": "stdout",
     "output_type": "stream",
     "text": [
      "{'user_name': 'kk', 'city': 'karachi', 'email': 'abc@xyz.com', 'language': 'Arabic'}\n"
     ]
    }
   ],
   "source": [
    "customer1['language'] = 'Arabic'\n",
    "print(customer1)\n",
    "#what is class"
   ]
  },
  {
   "cell_type": "code",
   "execution_count": 36,
   "metadata": {},
   "outputs": [
    {
     "name": "stdout",
     "output_type": "stream",
     "text": [
      "The sum of all int values is = 264\n",
      "The sum of all int values is = 264\n"
     ]
    }
   ],
   "source": [
    "student_001 = {\n",
    "    'class' : 'saylani',\n",
    "    'name' : 'kamrna_khan',\n",
    "    'quiz_1_marks' : 69,\n",
    "    'quiz_2_marks' : 96,\n",
    "    'quiz_3_marks' : 99,\n",
    "    \n",
    "}\n",
    "sum =0\n",
    "for x_key,y_val in student_001.items():\n",
    "    if (type(y_val)==int):\n",
    "        sum+=y_val\n",
    "print('The sum of all int values is =',sum)\n",
    "print(f'The sum of all int values is = {sum}')"
   ]
  },
  {
   "cell_type": "code",
   "execution_count": 12,
   "metadata": {},
   "outputs": [
    {
     "name": "stdout",
     "output_type": "stream",
     "text": [
      "['khi', 'isl', 9]\n"
     ]
    }
   ],
   "source": [
    "lst2 = ['khi','isl','psh','lhr','thar','isl','khi',9,9,1]\n",
    "duplicate = []\n",
    "for val in lst2:\n",
    "    if lst2.count(val)>1 and val not in duplicate:\n",
    "        duplicate.append(val)\n",
    "print(duplicate)"
   ]
  },
  {
   "cell_type": "code",
   "execution_count": 14,
   "metadata": {},
   "outputs": [
    {
     "name": "stdout",
     "output_type": "stream",
     "text": [
      "Already exist\n"
     ]
    }
   ],
   "source": [
    "dect_1 = {'first name': 'kamran',\n",
    "         'last name': 'khan',\n",
    "         'address':'defance'}\n",
    "key1 = 'first name'\n",
    "if key1 in dect_1:\n",
    "    print('Already exist')\n",
    "else :\n",
    "    print('not exist')"
   ]
  },
  {
   "cell_type": "code",
   "execution_count": null,
   "metadata": {},
   "outputs": [],
   "source": []
  }
 ],
 "metadata": {
  "kernelspec": {
   "display_name": "Python 3",
   "language": "python",
   "name": "python3"
  },
  "language_info": {
   "codemirror_mode": {
    "name": "ipython",
    "version": 3
   },
   "file_extension": ".py",
   "mimetype": "text/x-python",
   "name": "python",
   "nbconvert_exporter": "python",
   "pygments_lexer": "ipython3",
   "version": "3.7.4"
  }
 },
 "nbformat": 4,
 "nbformat_minor": 2
}
