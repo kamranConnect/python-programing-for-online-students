{
 "cells": [
  {
   "cell_type": "code",
   "execution_count": 1,
   "metadata": {},
   "outputs": [
    {
     "name": "stdout",
     "output_type": "stream",
     "text": [
      "Twinkle, twinkle, little star,\n",
      "How I wonder what you are!\n",
      "Up above the world so high,\n",
      "Twinkle, twinkle, little star,\n",
      "How I wonder what you are\n"
     ]
    }
   ],
   "source": [
    "print('Twinkle,'' ''twinkle,'' ''little star,')\n",
    "print(\"How I wonder what you are!\")\n",
    "print('Up above the world so high,')\n",
    "print('Twinkle,'' ''twinkle,'' ''little star,')\n",
    "print('How I wonder what you are')"
   ]
  },
  {
   "cell_type": "code",
   "execution_count": 2,
   "metadata": {},
   "outputs": [
    {
     "name": "stdout",
     "output_type": "stream",
     "text": [
      "using python 3.7.4 version\n"
     ]
    }
   ],
   "source": [
    "print('using python 3.7.4 version')"
   ]
  },
  {
   "cell_type": "code",
   "execution_count": 1,
   "metadata": {},
   "outputs": [
    {
     "name": "stdout",
     "output_type": "stream",
     "text": [
      "enter_first_number7\n",
      "enter_second_number9\n",
      "16.0\n"
     ]
    }
   ],
   "source": [
    "x = float(input('enter_first_number'))\n",
    "y = float(input('enter_second_number'))\n",
    "z = x + y\n",
    "print(z)"
   ]
  },
  {
   "cell_type": "code",
   "execution_count": 2,
   "metadata": {},
   "outputs": [
    {
     "name": "stdout",
     "output_type": "stream",
     "text": [
      "enter no6\n",
      "The area of circle is 113.097312\n"
     ]
    }
   ],
   "source": [
    "r = float(input('enter no'))\n",
    "pi = 3.141592\n",
    "a = pi*r**2\n",
    "print(f'The area of circle is {a}')"
   ]
  },
  {
   "cell_type": "code",
   "execution_count": 3,
   "metadata": {},
   "outputs": [
    {
     "name": "stdout",
     "output_type": "stream",
     "text": [
      "first_namek\n",
      "last_name khan\n",
      " khan k\n"
     ]
    }
   ],
   "source": [
    "name1 = input('first_name')\n",
    "name2 = input('last_name')\n",
    "print(name2+' '+name1)"
   ]
  },
  {
   "cell_type": "code",
   "execution_count": 6,
   "metadata": {},
   "outputs": [
    {
     "name": "stdout",
     "output_type": "stream",
     "text": [
      "2019-11-18\n"
     ]
    }
   ],
   "source": [
    "from datetime import date\n",
    "d1 = date.today()\n",
    "print(d1)"
   ]
  },
  {
   "cell_type": "code",
   "execution_count": 2,
   "metadata": {},
   "outputs": [
    {
     "name": "stdout",
     "output_type": "stream",
     "text": [
      "2019-11-20T05:23:54.744267+03:00\n"
     ]
    }
   ],
   "source": [
    "import datetime \n",
    "import pytz\n",
    "\n",
    "my_time = datetime.datetime.now(tz=pytz.timezone('Indian/Antananarivo'))\n",
    "\n",
    "print(my_time.isoformat())"
   ]
  }
 ],
 "metadata": {
  "kernelspec": {
   "display_name": "Python 3",
   "language": "python",
   "name": "python3"
  },
  "language_info": {
   "codemirror_mode": {
    "name": "ipython",
    "version": 3
   },
   "file_extension": ".py",
   "mimetype": "text/x-python",
   "name": "python",
   "nbconvert_exporter": "python",
   "pygments_lexer": "ipython3",
   "version": "3.7.4"
  }
 },
 "nbformat": 4,
 "nbformat_minor": 2
}
