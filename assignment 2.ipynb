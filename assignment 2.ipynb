{
 "cells": [
  {
   "cell_type": "code",
   "execution_count": 2,
   "metadata": {},
   "outputs": [
    {
     "name": "stdout",
     "output_type": "stream",
     "text": [
      "enter maths marks45\n",
      "enter physic marks67\n",
      "enter chemistry marks87\n",
      "enter urdu marks56\n",
      "enter english marks78\n",
      "congratulations your percentage is 66.60000000000001 B-grade\n"
     ]
    }
   ],
   "source": [
    "maths = int(input (\"enter maths marks\"))\n",
    "physic = int(input (\"enter physic marks\"))\n",
    "chemistry = int(input (\"enter chemistry marks\"))\n",
    "urdu = int(input (\"enter urdu marks\"))\n",
    "english = int(input (\"enter english marks\"))\n",
    "total = maths + physic +chemistry + urdu + english\n",
    "p = (total/500)*100\n",
    "if p >= 80 :\n",
    "    print(f'congratulations your percentage is {p} A+-grade')\n",
    "elif p >= 70 :\n",
    "    print(f'congratulations your percentage is {p} A-grade')\n",
    "elif p >= 60 :\n",
    "    print(f'congratulations your percentage is {p} B-grade')\n",
    "elif p >= 50 :\n",
    "    print(f'congratulations your percentage is {p} C-grade')\n",
    "elif p >= 40 :\n",
    "    print(f'congratulations your percentage is {p} D-grade')\n",
    "else :\n",
    "    print('you are falier')"
   ]
  },
  {
   "cell_type": "code",
   "execution_count": 3,
   "metadata": {},
   "outputs": [
    {
     "name": "stdout",
     "output_type": "stream",
     "text": [
      "enter your number66\n",
      "your no is even\n"
     ]
    }
   ],
   "source": [
    "x = int(input(\"enter your number\"))\n",
    "y = x%2\n",
    "if y==0 :\n",
    "  print('your no is even')\n",
    "else :\n",
    "  print('your no is odd')"
   ]
  },
  {
   "cell_type": "code",
   "execution_count": 4,
   "metadata": {},
   "outputs": [
    {
     "name": "stdout",
     "output_type": "stream",
     "text": [
      "5\n"
     ]
    }
   ],
   "source": [
    "cities = [\"karachi\",\"lahore\",\"islamabad\",\"peshawar\",\"quetta\"]\n",
    "print(len(cities))"
   ]
  },
  {
   "cell_type": "code",
   "execution_count": 5,
   "metadata": {},
   "outputs": [
    {
     "name": "stdout",
     "output_type": "stream",
     "text": [
      "The list is [1, 2, 3, 4, 5, 6, 7, 8, 9]\n",
      "The sum of all items in list is 45\n"
     ]
    }
   ],
   "source": [
    "lst = list(range(1,10))\n",
    "print(f'The list is {lst}')\n",
    "total = 0\n",
    "a = lst[0]\n",
    "for i in range(1,9):\n",
    "    a = a + lst[i]\n",
    "print(f'The sum of all items in list is {a}')"
   ]
  },
  {
   "cell_type": "code",
   "execution_count": 8,
   "metadata": {},
   "outputs": [
    {
     "name": "stdout",
     "output_type": "stream",
     "text": [
      "The maximum value of list is 99\n"
     ]
    }
   ],
   "source": [
    "k = list(range(1,100))\n",
    "print(f'The maximum value of list is {max(k)}')"
   ]
  },
  {
   "cell_type": "code",
   "execution_count": 9,
   "metadata": {},
   "outputs": [
    {
     "name": "stdout",
     "output_type": "stream",
     "text": [
      "[1, 1, 2, 3, 4]\n"
     ]
    }
   ],
   "source": [
    "e = [1,1,2,3,4,5,8,13,21,34,55,89]\n",
    "f = e[:5]\n",
    "print (f)"
   ]
  },
  {
   "cell_type": "code",
   "execution_count": null,
   "metadata": {},
   "outputs": [],
   "source": []
  }
 ],
 "metadata": {
  "kernelspec": {
   "display_name": "Python 3",
   "language": "python",
   "name": "python3"
  },
  "language_info": {
   "codemirror_mode": {
    "name": "ipython",
    "version": 3
   },
   "file_extension": ".py",
   "mimetype": "text/x-python",
   "name": "python",
   "nbconvert_exporter": "python",
   "pygments_lexer": "ipython3",
   "version": "3.7.4"
  }
 },
 "nbformat": 4,
 "nbformat_minor": 2
}
