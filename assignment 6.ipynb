{
 "cells": [
  {
   "cell_type": "markdown",
   "metadata": {},
   "source": [
    "Q1: Define Object oriented Programming language ?\n",
    "\n",
    "DEFINATION : object oriented programming language (OOP) is a paradigm based upon objects (having both data and methods)\n",
    "that aimsincorprate the advantages and modularity and reusability."
   ]
  },
  {
   "cell_type": "markdown",
   "metadata": {},
   "source": [
    "Q2: List the benefits fo OOP ?\n",
    "\n",
    "[1] : The Programming get easy and efficient.\n",
    "[2] : The class is sharable , so code can be rused.\n",
    "[3] : The productivity of programmer increases\n",
    "[4] : Data is safe and secure with data abstraction "
   ]
  },
  {
   "cell_type": "markdown",
   "metadata": {},
   "source": [
    "Q3: Different Betwween Function And Methods ?\n",
    "\n",
    "functions describe the behavior of model, they donot have any variable \n",
    "methods ase called by variables"
   ]
  },
  {
   "cell_type": "markdown",
   "metadata": {},
   "source": [
    "Q4 : define the following \n",
    "\n",
    "[Class] Blue pirnt of an object.\n",
    "[Objects] is inheritance of a class\n",
    "[Attributes] They are the instant variables of class (e.g. modle name etc)\n",
    "[Behaviour] is the way the object can do anything"
   ]
  },
  {
   "cell_type": "code",
   "execution_count": 4,
   "metadata": {},
   "outputs": [
    {
     "name": "stdout",
     "output_type": "stream",
     "text": [
      "The name of car is Toyota corola 2015\n",
      "The Car has run 12500 miles\n",
      "The colour of Car is grey\n"
     ]
    }
   ],
   "source": [
    "# Q6: write a code in python in which create a class named it Car which have 5 attributes like (model,color,name,etc) \n",
    "# and 3 methodes.And create 5 object instance from that class.\n",
    "\n",
    "class Car ():\n",
    "    def __init__(self, name, colour, year, company, miles):\n",
    "        self.name = name\n",
    "        self.colour = colour\n",
    "        self.year = year\n",
    "        self.company = company\n",
    "        self.miles = miles\n",
    "    def description(self):\n",
    "        full_name = f\"The name of car is {self.company} {self.name} {self.year}\"\n",
    "        print(full_name)\n",
    "    def color(self):\n",
    "        print (f\"The colour of Car is {self.colour}\")\n",
    "    def mileage(self):\n",
    "        print (f\"The Car has run {self.miles} miles\")\n",
    "\n",
    "Car = Car('corola','grey',2015,'Toyota',12500)\n",
    "\n",
    "\n",
    "Car.mileage()\n",
    "\n",
    "Car.color()"
   ]
  },
  {
   "cell_type": "code",
   "execution_count": null,
   "metadata": {},
   "outputs": [],
   "source": []
  }
 ],
 "metadata": {
  "kernelspec": {
   "display_name": "Python 3",
   "language": "python",
   "name": "python3"
  },
  "language_info": {
   "codemirror_mode": {
    "name": "ipython",
    "version": 3
   },
   "file_extension": ".py",
   "mimetype": "text/x-python",
   "name": "python",
   "nbconvert_exporter": "python",
   "pygments_lexer": "ipython3",
   "version": "3.7.4"
  }
 },
 "nbformat": 4,
 "nbformat_minor": 2
}
