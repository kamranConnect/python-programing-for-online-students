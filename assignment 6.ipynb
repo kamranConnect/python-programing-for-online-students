{
 "cells": [
  {
   "cell_type": "markdown",
   "metadata": {},
   "source": [
    "Q1: Define Object oriented Programming language ?\n",
    "\n",
    "DEFINATION : object oriented programming language (OOP) is a paradigm based upon objects (having both data and methods)\n",
    "that aimsincorprate the advantages and modularity and reusability."
   ]
  },
  {
   "cell_type": "markdown",
   "metadata": {},
   "source": [
    "Q2: List the benefits fo OOP ?\n",
    "\n",
    "1 : The Programming get easy and efficient.\n",
    "2 : The class is sharable , so code can be rused.\n",
    "3 : The productivity of programmer increases\n",
    "4 : Data is safe and secure with data abstraction "
   ]
  },
  {
   "cell_type": "markdown",
   "metadata": {},
   "source": [
    "Q3: Different Betwween Function And Methods ?\n",
    "\n",
    "functions describe the behavior of model, they donot have any variable \n",
    "methods ase called by variables"
   ]
  },
  {
   "cell_type": "markdown",
   "metadata": {},
   "source": [
    "Q4 : define the following \n",
    "\n",
    "class is a function of attribues and function \n",
    "objects is inheritance of a class\n",
    "attributes are the variables,your class have like modle name etc\n",
    "behaviour is the way the object can do anything"
   ]
  },
  {
   "cell_type": "code",
   "execution_count": 53,
   "metadata": {},
   "outputs": [
    {
     "name": "stdout",
     "output_type": "stream",
     "text": [
      "The name of car is toyota city 2015\n",
      "The car has run 12500 miles\n"
     ]
    },
    {
     "ename": "TypeError",
     "evalue": "'str' object is not callable",
     "output_type": "error",
     "traceback": [
      "\u001b[1;31m---------------------------------------------------------------------------\u001b[0m",
      "\u001b[1;31mTypeError\u001b[0m                                 Traceback (most recent call last)",
      "\u001b[1;32m<ipython-input-53-0cecdc8d411b>\u001b[0m in \u001b[0;36m<module>\u001b[1;34m\u001b[0m\n\u001b[0;32m     21\u001b[0m \u001b[0mprint\u001b[0m\u001b[1;33m(\u001b[0m\u001b[0mcar1\u001b[0m\u001b[1;33m.\u001b[0m\u001b[0mdescription\u001b[0m\u001b[1;33m(\u001b[0m\u001b[1;33m)\u001b[0m\u001b[1;33m)\u001b[0m\u001b[1;33m\u001b[0m\u001b[1;33m\u001b[0m\u001b[0m\n\u001b[0;32m     22\u001b[0m \u001b[0mcar1\u001b[0m\u001b[1;33m.\u001b[0m\u001b[0mavarage\u001b[0m\u001b[1;33m(\u001b[0m\u001b[1;33m)\u001b[0m\u001b[1;33m\u001b[0m\u001b[1;33m\u001b[0m\u001b[0m\n\u001b[1;32m---> 23\u001b[1;33m \u001b[0mcar1\u001b[0m\u001b[1;33m.\u001b[0m\u001b[0mcolor\u001b[0m\u001b[1;33m(\u001b[0m\u001b[1;33m)\u001b[0m\u001b[1;33m\u001b[0m\u001b[1;33m\u001b[0m\u001b[0m\n\u001b[0m",
      "\u001b[1;31mTypeError\u001b[0m: 'str' object is not callable"
     ]
    }
   ],
   "source": [
    "# Q6: write a code in python in which create a class named it Car which have 5 attributes like (model,color,name,etc) \n",
    "# and 3 methodes.And create 5 object instance from that class.\n",
    "\n",
    "class Car():\n",
    "    def __init__(self, name, color, year, company, miles):\n",
    "        self.name = name\n",
    "        self.color = color\n",
    "        self.year = year\n",
    "        self.company = company\n",
    "        self.miles = miles\n",
    "        \n",
    "    def description(self):\n",
    "        full_name = f\"The name of car is {self.company} {self.name} {self.year}\"\n",
    "        return full_name\n",
    "    def color(self):\n",
    "        print(f\"The color of car is {self.color}\")\n",
    "    def avarage(self):\n",
    "        print(f'The car has run {self.miles} miles')\n",
    "\n",
    "car1 = Car(\"city\",\"gray\",2015,\"toyota\",12500)\n",
    "print(car1.description())\n",
    "car1.avarage()\n",
    "car1.color()"
   ]
  },
  {
   "cell_type": "code",
   "execution_count": null,
   "metadata": {},
   "outputs": [],
   "source": []
  }
 ],
 "metadata": {
  "kernelspec": {
   "display_name": "Python 3",
   "language": "python",
   "name": "python3"
  },
  "language_info": {
   "codemirror_mode": {
    "name": "ipython",
    "version": 3
   },
   "file_extension": ".py",
   "mimetype": "text/x-python",
   "name": "python",
   "nbconvert_exporter": "python",
   "pygments_lexer": "ipython3",
   "version": "3.7.4"
  }
 },
 "nbformat": 4,
 "nbformat_minor": 2
}
