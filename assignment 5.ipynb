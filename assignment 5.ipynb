{
 "cells": [
  {
   "cell_type": "code",
   "execution_count": null,
   "metadata": {},
   "outputs": [],
   "source": [
    "# Q1: Write a Python function to calculate the factorial of a number (a non-negative integer). The function accepts the number as an argument\n",
    "\n",
    "def isInt (userInput):\n",
    "    try:\n",
    "        int(userInput)\n",
    "        return True\n",
    "    except ValueError: #except ka bad space ni dana ha\n",
    "        return False\n",
    "#---------------Factorial function-----------------------------------------------\n",
    "\n",
    "def factorial (n):\n",
    "    fact = 1\n",
    "    for num in range (2 , n + 1):\n",
    "        fact = fact * num    #fact *= num (asa b likh sakte ha)\n",
    "    print (\"The value of {} factorial is :{}\".format(n,fact))\n",
    "    \n",
    "#----------------------------xxxxxx----------------------------------------------\n",
    "\n",
    "print(\"-----------------\\n Press e to Exit\\n-----------------\")\n",
    "while True :\n",
    "    var = input('Enter Number :')\n",
    "    var1 = isInt(var)\n",
    "    \n",
    "    if var1 == True :\n",
    "        var2 = int(var)\n",
    "        if var2 >= 0 :\n",
    "            factorial(var2)\n",
    "        else:\n",
    "            print(\"enter non negative number\")\n",
    "    \n",
    "    elif var == \"e\" :\n",
    "        break\n",
    "    else :\n",
    "        print(\"You Enter Invalid Command\")\n",
    "        "
   ]
  },
  {
   "cell_type": "code",
   "execution_count": null,
   "metadata": {},
   "outputs": [],
   "source": [
    "# Q2: Write a Python function that accepts a string and calculate the number of upper case letters and lower case letters.\n",
    "\n",
    "def n_upper_chars(string):\n",
    "    return sum(map(str.isupper, string))\n",
    "\n",
    "def n_lower_chars(string):\n",
    "    return sum(map(str.islower, string))\n",
    "\n",
    "var = input(\"Enter Command  :  \")\n",
    "\n",
    "upper_case = n_upper_chars(var)\n",
    "lower_case = n_lower_chars(var)\n",
    "\n",
    "print (\"The sum of upper case is :\",upper_case)\n",
    "\n",
    "print (\"The sum of lower case is :\",lower_case)"
   ]
  },
  {
   "cell_type": "code",
   "execution_count": null,
   "metadata": {},
   "outputs": [],
   "source": [
    "# Q3: Write a Python function to print the even numbers from a given list?\n",
    "\n",
    "def myfunc (lst):\n",
    "    \n",
    "    lst2 = []\n",
    "    for elements in lst:\n",
    "        if elements%2 == 0 :\n",
    "            lst2.append(elements)\n",
    "    print('The given list is :')\n",
    "    print(lst)\n",
    "    print('\\nThe list of even numbers is :')\n",
    "    print(lst2)\n",
    "    \n",
    "lst = list(range(1 , 30))  #lst = [1,2,3 ..... ,29,30]\n",
    "\n",
    "myfunc (lst)"
   ]
  },
  {
   "cell_type": "code",
   "execution_count": null,
   "metadata": {},
   "outputs": [],
   "source": [
    "# Q4: Write a Python function that checks whether a passed string is palindrome or not.\n",
    "#Note: A palindrome is a word, phrase, or sequence that reads the same backward as forward, e.g., madam\n",
    "\n",
    "def isPalindrome (x):\n",
    "    \n",
    "    #  .join(reversed(variable))  ye kse string ka sath dusre string ko reverse m laga data h\n",
    "    rev = ''.join(reversed(x))\n",
    "    \n",
    "    if (x == rev):\n",
    "        return True\n",
    "    else :\n",
    "        return False\n",
    "    \n",
    "x = input(\"Enter your Word\")\n",
    "y = bool(isPalindrome (x))\n",
    "if y == 1 :\n",
    "    print(\"Yes , The given word is Palindrome !\")\n",
    "else :\n",
    "    print (\"NO , The given word is not Palindrome ! \")"
   ]
  },
  {
   "cell_type": "code",
   "execution_count": 9,
   "metadata": {},
   "outputs": [
    {
     "name": "stdout",
     "output_type": "stream",
     "text": [
      "Enter Your Number :3\n",
      "The given number is Prime\n"
     ]
    }
   ],
   "source": [
    "# Q5: Write a Python function that takes a number as a parameter and check the number is prime or not\n",
    "\n",
    "num = int(input (\"Enter Your Number :\"))\n",
    "\n",
    "def f (x):\n",
    "    for i in range (2,num):\n",
    "        if num % i == 0:\n",
    "            print (\"The given number is not  Prime\")\n",
    "            break    # break ni lagane sa loop chalta rahe ga !\n",
    "        else :\n",
    "            print (\"The given number is Prime\")\n",
    "\n",
    "f (num)\n",
    "            \n"
   ]
  },
  {
   "cell_type": "code",
   "execution_count": 8,
   "metadata": {},
   "outputs": [
    {
     "name": "stdout",
     "output_type": "stream",
     "text": [
      "The user bought ['watch', 'shirt', 'pent'] from the market\n"
     ]
    }
   ],
   "source": [
    "# Q6: Write a function which accepts the multiple arguments of user shopping list and print all the items which user bought from market.\n",
    "# (Hint: Arbitrary Argument concept can make this task ease)\n",
    "\n",
    "def shopping (*items) :\n",
    "    for elements in items:\n",
    "        print (\"The user bought {} from the market\".format(elements))\n",
    "        \n",
    "shopping (['watch' , 'shirt' , 'pent'])"
   ]
  }
 ],
 "metadata": {
  "kernelspec": {
   "display_name": "Python 3",
   "language": "python",
   "name": "python3"
  },
  "language_info": {
   "codemirror_mode": {
    "name": "ipython",
    "version": 3
   },
   "file_extension": ".py",
   "mimetype": "text/x-python",
   "name": "python",
   "nbconvert_exporter": "python",
   "pygments_lexer": "ipython3",
   "version": "3.7.4"
  }
 },
 "nbformat": 4,
 "nbformat_minor": 2
}
