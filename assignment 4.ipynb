{
 "cells": [
  {
   "cell_type": "code",
   "execution_count": 23,
   "metadata": {},
   "outputs": [
    {
     "name": "stdout",
     "output_type": "stream",
     "text": [
      "1;who is the Manager of Saylani Mass IT Traning?\n",
      "ali mughal\n",
      "zia khan\n",
      "\n",
      "2;Does Saylani has single branch or multipal branches?\n",
      "single\n",
      "multipal\n",
      "\n",
      "3;Saylani Mass IT Traning was started in which year?\n",
      "2015\n",
      "2013\n",
      "2013\n",
      "4;who is the Founder of Saylani?\n",
      "zia khan\n",
      "alama bashir farooq\n",
      "\n",
      "Your score is : 1\n",
      "Your persentage is ;  25.0\n"
     ]
    }
   ],
   "source": [
    "#Quiz Application:\n",
    "questionS = [\n",
    "    {'s.no' : '1',\n",
    "    'question' : 'who is the Manager of Saylani Mass IT Traning?',\n",
    "    'options' : ['ali mughal','zia khan'],\n",
    "    'answer' : 'ali mughal'}\n",
    "    ,\n",
    "    {'s.no' : '2',\n",
    "    'question' : 'Does Saylani has single branch or multipal branches?',\n",
    "    'options' :  ['single','multipal'],\n",
    "    'answer' : 'multipal'}\n",
    "    ,\n",
    "    {'s.no' : '3',\n",
    "    'question' : 'Saylani Mass IT Traning was started in which year?',\n",
    "    'options' : ['2015','2013'],\n",
    "    'answer' : '2013'}\n",
    "    ,\n",
    "    {'s.no' : '4',\n",
    "    'question' : 'who is the Founder of Saylani?',\n",
    "    'options' : ['zia khan' , 'alama bashir farooq'],\n",
    "    'answer' : 'alama bashir farooq'}\n",
    "    ,\n",
    "]\n",
    "score = 0\n",
    "for dicts in questionS :\n",
    "    data = dicts['s.no'] + ';' + dicts['question'] + '\\n' + dicts['options'][0] + '\\n' +  dicts['options'][1] + '\\n'\n",
    "    ans = input(data)\n",
    "    if ans == dicts['answer']:\n",
    "        score += 1\n",
    "print('Your score is :',score)\n",
    "def func(x):\n",
    "    y = (x/4)*100\n",
    "    print(f'Your persentage is ; ' ,y)\n",
    "func(score)"
   ]
  },
  {
   "cell_type": "code",
   "execution_count": null,
   "metadata": {},
   "outputs": [],
   "source": [
    "#Question 1:\n",
    "#Use a dictionary to store information about a person you know. Store their first name, last name, age, and the city in which they live. You should have keys such as first_name, last_name, age, and city. Print each piece of information stored in your dictionary. Add a new key value pair about qualification then update the qualification value to high academic level then delete it\n",
    "\n",
    "data = {\"first_name\":\"kamran \",\"last_name\":\"khan\",\"age\":20,\"city\":\"las vegas\"}\n",
    "print(data)\n",
    "data[\"Qualification\"] = \"B.Sc from UoK\"\n",
    "data[\"Qualification\"] = \"MSc in MATHS from UoK\"\n",
    "print(data)\n",
    "del data[\"Qualification\"]\n",
    "print(da"
   ]
  },
  {
   "cell_type": "code",
   "execution_count": 7,
   "metadata": {},
   "outputs": [
    {
     "name": "stdout",
     "output_type": "stream",
     "text": [
      "karachi {'country': 'Pakistan', 'Population': '25 Million', 'fact': 'centre of all civilazations'}\n",
      "lahore {'country': 'Pakistan', 'Population': '5 million', 'fact': 'it has badshahi mosque'}\n",
      "sialkot {'country': 'Pakistan', 'Population': '1 million', 'fact': 'its sport goods are famous world wide'}\n"
     ]
    }
   ],
   "source": [
    "#Question 2:\n",
    "#Make a dictionary called cities. Use the names of three cities as keys in your dictionary. Create a dictionary of information about each city and include the country that the city is in, its approximate population, and one fact about that city. The keys for each city’s dictionary should be something like country, population, and fact. Print the name of each city and all of the information you have stored about it.\n",
    "\n",
    "city = {\"karachi\":{\"country\":\"Pakistan\",\"Population\":\"25 Million\",\"fact\":\"centre of all civilazations\"},\n",
    "        \"lahore\":{\"country\":\"Pakistan\",\"Population\":\"5 million\",'fact':\"it has badshahi mosque\"},\n",
    "       \"sialkot\":{\"country\":\"Pakistan\",\"Population\":\"1 million\",\"fact\":\"its sport goods are famous world wide\"}}\n",
    "for k,v in city.items():\n",
    "    print(k,v)"
   ]
  },
  {
   "cell_type": "code",
   "execution_count": 15,
   "metadata": {},
   "outputs": [
    {
     "name": "stdout",
     "output_type": "stream",
     "text": [
      "Please enter your age :9\n",
      "your ticket is $10\n"
     ]
    }
   ],
   "source": [
    "#Question 3:\n",
    "#A movie theater charges different ticket prices depending on a person’s age. If a person is under the age of 3, the ticket is free; if they are between 3 and 12, the ticket is $10; and if they are over age 12, the ticket is $15. Write a loop in which you ask users their age, and then tell them the cost of their movie ticket.\n",
    "\n",
    "user_age = int(input('Please enter your age :'))\n",
    "for elements in range(1,3):\n",
    "    if user_age <=3:\n",
    "        print(\"your ticket is free\")\n",
    "        break\n",
    "    if user_age >3 and user_age <=12:\n",
    "        print(\"your ticket is $10\")\n",
    "        break\n",
    "    if user_age > 12:\n",
    "        print(\"your ticket is $15\")\n",
    "        break"
   ]
  },
  {
   "cell_type": "code",
   "execution_count": 17,
   "metadata": {},
   "outputs": [
    {
     "name": "stdout",
     "output_type": "stream",
     "text": [
      "One of my favourite book is Alice in Wonderland\n"
     ]
    }
   ],
   "source": [
    "#Question 4:\n",
    "#Write a function called favorite_book() that accepts one parameter, title. The function should print a message, such as One of my favorite books is Alice in Wonderland. Call the function, making sure to include a book title as an argument in the function call.\n",
    "\n",
    "def favourite_book(title):\n",
    "    print(f'One of my favourite book is {title}')\n",
    "\n",
    "favourite_book('Alice in Wonderland')"
   ]
  },
  {
   "cell_type": "code",
   "execution_count": null,
   "metadata": {},
   "outputs": [],
   "source": [
    "#Question 5:\n",
    "#Guess the number game. Write a program which randomly generate a number between 1 to 30 and ask the user in input field to guess the correct number. Give three chances to user guess the number and also give hint to user if hidden number is greater or smaller than the number he given to input field.\n",
    "\n"
   ]
  }
 ],
 "metadata": {
  "kernelspec": {
   "display_name": "Python 3",
   "language": "python",
   "name": "python3"
  },
  "language_info": {
   "codemirror_mode": {
    "name": "ipython",
    "version": 3
   },
   "file_extension": ".py",
   "mimetype": "text/x-python",
   "name": "python",
   "nbconvert_exporter": "python",
   "pygments_lexer": "ipython3",
   "version": "3.7.4"
  }
 },
 "nbformat": 4,
 "nbformat_minor": 2
}
